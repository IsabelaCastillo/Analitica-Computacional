{
 "cells": [
  {
   "cell_type": "markdown",
   "metadata": {},
   "source": [
    "### Analitica Computacional para la toma de decisiones"
   ]
  },
  {
   "cell_type": "markdown",
   "metadata": {},
   "source": [
    "# Importar Librerias"
   ]
  },
  {
   "cell_type": "code",
   "execution_count": 2,
   "metadata": {},
   "outputs": [],
   "source": [
    "import numpy as np\n",
    "import pandas as pd"
   ]
  },
  {
   "cell_type": "markdown",
   "metadata": {},
   "source": [
    "Se importan las librerías `numpy` como `np` y `pandas` como `pd` para su uso en el resto del cuaderno."
   ]
  },
  {
   "cell_type": "code",
   "execution_count": 3,
   "metadata": {},
   "outputs": [],
   "source": [
    "df = pd.read_csv(r'C:\\Users\\fmerc\\OneDrive\\Escritorio\\Analitica Computacional\\Tarea_1\\BikePrices.csv')"
   ]
  },
  {
   "cell_type": "markdown",
   "metadata": {},
   "source": [
    "Se lee e importa el archivo CSV como un DataFrame utilizando la función `read_csv` de la librería `pandas` (`pd`)."
   ]
  },
  {
   "cell_type": "code",
   "execution_count": 4,
   "metadata": {},
   "outputs": [
    {
     "data": {
      "text/plain": [
       "(1061, 8)"
      ]
     },
     "execution_count": 4,
     "metadata": {},
     "output_type": "execute_result"
    }
   ],
   "source": [
    "df.shape"
   ]
  },
  {
   "cell_type": "markdown",
   "metadata": {},
   "source": [
    "Muestra la dimensión de la data frame"
   ]
  },
  {
   "cell_type": "code",
   "execution_count": 5,
   "metadata": {},
   "outputs": [
    {
     "data": {
      "text/html": [
       "<div>\n",
       "<style scoped>\n",
       "    .dataframe tbody tr th:only-of-type {\n",
       "        vertical-align: middle;\n",
       "    }\n",
       "\n",
       "    .dataframe tbody tr th {\n",
       "        vertical-align: top;\n",
       "    }\n",
       "\n",
       "    .dataframe thead th {\n",
       "        text-align: right;\n",
       "    }\n",
       "</style>\n",
       "<table border=\"1\" class=\"dataframe\">\n",
       "  <thead>\n",
       "    <tr style=\"text-align: right;\">\n",
       "      <th></th>\n",
       "      <th>Brand</th>\n",
       "      <th>Model</th>\n",
       "      <th>Selling_Price</th>\n",
       "      <th>Year</th>\n",
       "      <th>Seller_Type</th>\n",
       "      <th>Owner</th>\n",
       "      <th>KM_Driven</th>\n",
       "      <th>Ex_Showroom_Price</th>\n",
       "    </tr>\n",
       "  </thead>\n",
       "  <tbody>\n",
       "    <tr>\n",
       "      <th>0</th>\n",
       "      <td>TVS</td>\n",
       "      <td>TVS XL 100</td>\n",
       "      <td>30000</td>\n",
       "      <td>2017</td>\n",
       "      <td>Individual</td>\n",
       "      <td>1st owner</td>\n",
       "      <td>8000</td>\n",
       "      <td>30490.0</td>\n",
       "    </tr>\n",
       "    <tr>\n",
       "      <th>1</th>\n",
       "      <td>Bajaj</td>\n",
       "      <td>Bajaj  ct 100</td>\n",
       "      <td>18000</td>\n",
       "      <td>2017</td>\n",
       "      <td>Individual</td>\n",
       "      <td>1st owner</td>\n",
       "      <td>35000</td>\n",
       "      <td>32000.0</td>\n",
       "    </tr>\n",
       "    <tr>\n",
       "      <th>2</th>\n",
       "      <td>Yo</td>\n",
       "      <td>Yo Style</td>\n",
       "      <td>20000</td>\n",
       "      <td>2011</td>\n",
       "      <td>Individual</td>\n",
       "      <td>1st owner</td>\n",
       "      <td>10000</td>\n",
       "      <td>37675.0</td>\n",
       "    </tr>\n",
       "    <tr>\n",
       "      <th>3</th>\n",
       "      <td>Bajaj</td>\n",
       "      <td>Bajaj Discover 100</td>\n",
       "      <td>25000</td>\n",
       "      <td>2010</td>\n",
       "      <td>Individual</td>\n",
       "      <td>1st owner</td>\n",
       "      <td>43000</td>\n",
       "      <td>42859.0</td>\n",
       "    </tr>\n",
       "    <tr>\n",
       "      <th>4</th>\n",
       "      <td>Bajaj</td>\n",
       "      <td>Bajaj Discover 100</td>\n",
       "      <td>24999</td>\n",
       "      <td>2012</td>\n",
       "      <td>Individual</td>\n",
       "      <td>2nd owner</td>\n",
       "      <td>35000</td>\n",
       "      <td>42859.0</td>\n",
       "    </tr>\n",
       "  </tbody>\n",
       "</table>\n",
       "</div>"
      ],
      "text/plain": [
       "   Brand               Model  Selling_Price  Year Seller_Type      Owner  \\\n",
       "0    TVS          TVS XL 100          30000  2017  Individual  1st owner   \n",
       "1  Bajaj       Bajaj  ct 100          18000  2017  Individual  1st owner   \n",
       "2     Yo            Yo Style          20000  2011  Individual  1st owner   \n",
       "3  Bajaj  Bajaj Discover 100          25000  2010  Individual  1st owner   \n",
       "4  Bajaj  Bajaj Discover 100          24999  2012  Individual  2nd owner   \n",
       "\n",
       "   KM_Driven  Ex_Showroom_Price  \n",
       "0       8000            30490.0  \n",
       "1      35000            32000.0  \n",
       "2      10000            37675.0  \n",
       "3      43000            42859.0  \n",
       "4      35000            42859.0  "
      ]
     },
     "execution_count": 5,
     "metadata": {},
     "output_type": "execute_result"
    }
   ],
   "source": [
    "df.head()"
   ]
  },
  {
   "cell_type": "markdown",
   "metadata": {},
   "source": [
    "La función `head` muestra las primeras 5 filas con todas las columnas del DataFrame, comenzando con el índice cero, ya que Python utiliza indexación basada en cero."
   ]
  },
  {
   "cell_type": "code",
   "execution_count": 6,
   "metadata": {},
   "outputs": [
    {
     "data": {
      "text/plain": [
       "array(['Individual', 'Dealer'], dtype=object)"
      ]
     },
     "execution_count": 6,
     "metadata": {},
     "output_type": "execute_result"
    }
   ],
   "source": [
    "df[\"Seller_Type\"].unique()"
   ]
  },
  {
   "cell_type": "markdown",
   "metadata": {},
   "source": [
    "La función `unique` en Python muestra los valores únicos de una columna, eliminando duplicados. Dado que la columna `Attrition_Flag` son 2 categorías, te devolverá solo los valores únicos."
   ]
  },
  {
   "cell_type": "code",
   "execution_count": 7,
   "metadata": {},
   "outputs": [
    {
     "data": {
      "text/html": [
       "<div>\n",
       "<style scoped>\n",
       "    .dataframe tbody tr th:only-of-type {\n",
       "        vertical-align: middle;\n",
       "    }\n",
       "\n",
       "    .dataframe tbody tr th {\n",
       "        vertical-align: top;\n",
       "    }\n",
       "\n",
       "    .dataframe thead th {\n",
       "        text-align: right;\n",
       "    }\n",
       "</style>\n",
       "<table border=\"1\" class=\"dataframe\">\n",
       "  <thead>\n",
       "    <tr style=\"text-align: right;\">\n",
       "      <th></th>\n",
       "      <th>Brand</th>\n",
       "      <th>Model</th>\n",
       "      <th>Selling_Price</th>\n",
       "      <th>Year</th>\n",
       "      <th>Owner</th>\n",
       "      <th>KM_Driven</th>\n",
       "      <th>Ex_Showroom_Price</th>\n",
       "    </tr>\n",
       "    <tr>\n",
       "      <th>Seller_Type</th>\n",
       "      <th></th>\n",
       "      <th></th>\n",
       "      <th></th>\n",
       "      <th></th>\n",
       "      <th></th>\n",
       "      <th></th>\n",
       "      <th></th>\n",
       "    </tr>\n",
       "  </thead>\n",
       "  <tbody>\n",
       "    <tr>\n",
       "      <th>Dealer</th>\n",
       "      <td>6</td>\n",
       "      <td>6</td>\n",
       "      <td>6</td>\n",
       "      <td>6</td>\n",
       "      <td>6</td>\n",
       "      <td>6</td>\n",
       "      <td>3</td>\n",
       "    </tr>\n",
       "    <tr>\n",
       "      <th>Individual</th>\n",
       "      <td>1055</td>\n",
       "      <td>1055</td>\n",
       "      <td>1055</td>\n",
       "      <td>1055</td>\n",
       "      <td>1055</td>\n",
       "      <td>1055</td>\n",
       "      <td>623</td>\n",
       "    </tr>\n",
       "  </tbody>\n",
       "</table>\n",
       "</div>"
      ],
      "text/plain": [
       "             Brand  Model  Selling_Price  Year  Owner  KM_Driven  \\\n",
       "Seller_Type                                                        \n",
       "Dealer           6      6              6     6      6          6   \n",
       "Individual    1055   1055           1055  1055   1055       1055   \n",
       "\n",
       "             Ex_Showroom_Price  \n",
       "Seller_Type                     \n",
       "Dealer                       3  \n",
       "Individual                 623  "
      ]
     },
     "execution_count": 7,
     "metadata": {},
     "output_type": "execute_result"
    }
   ],
   "source": [
    "df.groupby([\"Seller_Type\"]).count()"
   ]
  },
  {
   "cell_type": "markdown",
   "metadata": {},
   "source": [
    "La función `groupby` agrupa por categoría y cuenta la cantidad de filas que tiene cada categoría en la columna `Attrition_flag`."
   ]
  },
  {
   "cell_type": "code",
   "execution_count": 8,
   "metadata": {},
   "outputs": [
    {
     "data": {
      "text/plain": [
       "Seller_Type\n",
       "Individual    1055\n",
       "Dealer           6\n",
       "Name: count, dtype: int64"
      ]
     },
     "execution_count": 8,
     "metadata": {},
     "output_type": "execute_result"
    }
   ],
   "source": [
    "df[\"Seller_Type\"].value_counts()"
   ]
  },
  {
   "cell_type": "markdown",
   "metadata": {},
   "source": [
    "La función `value_counts` muestra el número de observaciones por categoría en `Attrition_Flag`, asociando cada una con su respectiva frecuencia."
   ]
  },
  {
   "cell_type": "code",
   "execution_count": 9,
   "metadata": {},
   "outputs": [
    {
     "data": {
      "text/html": [
       "<div>\n",
       "<style scoped>\n",
       "    .dataframe tbody tr th:only-of-type {\n",
       "        vertical-align: middle;\n",
       "    }\n",
       "\n",
       "    .dataframe tbody tr th {\n",
       "        vertical-align: top;\n",
       "    }\n",
       "\n",
       "    .dataframe thead th {\n",
       "        text-align: right;\n",
       "    }\n",
       "</style>\n",
       "<table border=\"1\" class=\"dataframe\">\n",
       "  <thead>\n",
       "    <tr style=\"text-align: right;\">\n",
       "      <th></th>\n",
       "      <th>Selling_Price</th>\n",
       "      <th>Year</th>\n",
       "      <th>KM_Driven</th>\n",
       "      <th>Ex_Showroom_Price</th>\n",
       "    </tr>\n",
       "  </thead>\n",
       "  <tbody>\n",
       "    <tr>\n",
       "      <th>count</th>\n",
       "      <td>1061.000000</td>\n",
       "      <td>1061.000000</td>\n",
       "      <td>1061.000000</td>\n",
       "      <td>6.260000e+02</td>\n",
       "    </tr>\n",
       "    <tr>\n",
       "      <th>mean</th>\n",
       "      <td>59638.151744</td>\n",
       "      <td>2013.867107</td>\n",
       "      <td>34359.833176</td>\n",
       "      <td>8.795871e+04</td>\n",
       "    </tr>\n",
       "    <tr>\n",
       "      <th>std</th>\n",
       "      <td>56304.291973</td>\n",
       "      <td>4.301191</td>\n",
       "      <td>51623.152702</td>\n",
       "      <td>7.749659e+04</td>\n",
       "    </tr>\n",
       "    <tr>\n",
       "      <th>min</th>\n",
       "      <td>5000.000000</td>\n",
       "      <td>1988.000000</td>\n",
       "      <td>350.000000</td>\n",
       "      <td>3.049000e+04</td>\n",
       "    </tr>\n",
       "    <tr>\n",
       "      <th>25%</th>\n",
       "      <td>28000.000000</td>\n",
       "      <td>2011.000000</td>\n",
       "      <td>13500.000000</td>\n",
       "      <td>5.485200e+04</td>\n",
       "    </tr>\n",
       "    <tr>\n",
       "      <th>50%</th>\n",
       "      <td>45000.000000</td>\n",
       "      <td>2015.000000</td>\n",
       "      <td>25000.000000</td>\n",
       "      <td>7.275250e+04</td>\n",
       "    </tr>\n",
       "    <tr>\n",
       "      <th>75%</th>\n",
       "      <td>70000.000000</td>\n",
       "      <td>2017.000000</td>\n",
       "      <td>43000.000000</td>\n",
       "      <td>8.703150e+04</td>\n",
       "    </tr>\n",
       "    <tr>\n",
       "      <th>max</th>\n",
       "      <td>760000.000000</td>\n",
       "      <td>2020.000000</td>\n",
       "      <td>880000.000000</td>\n",
       "      <td>1.278000e+06</td>\n",
       "    </tr>\n",
       "  </tbody>\n",
       "</table>\n",
       "</div>"
      ],
      "text/plain": [
       "       Selling_Price         Year      KM_Driven  Ex_Showroom_Price\n",
       "count    1061.000000  1061.000000    1061.000000       6.260000e+02\n",
       "mean    59638.151744  2013.867107   34359.833176       8.795871e+04\n",
       "std     56304.291973     4.301191   51623.152702       7.749659e+04\n",
       "min      5000.000000  1988.000000     350.000000       3.049000e+04\n",
       "25%     28000.000000  2011.000000   13500.000000       5.485200e+04\n",
       "50%     45000.000000  2015.000000   25000.000000       7.275250e+04\n",
       "75%     70000.000000  2017.000000   43000.000000       8.703150e+04\n",
       "max    760000.000000  2020.000000  880000.000000       1.278000e+06"
      ]
     },
     "execution_count": 9,
     "metadata": {},
     "output_type": "execute_result"
    }
   ],
   "source": [
    "df.describe()"
   ]
  },
  {
   "cell_type": "markdown",
   "metadata": {},
   "source": [
    "La función `describe` proporciona un análisis descriptivo de cada columna con atributos cuantitativos, mostrando el número de observaciones (`count`), el promedio (`mean`), la desviación estándar (`std`), el valor mínimo (`min`), los cuartiles del 25%, 50% y 75%, y el valor máximo (`max`) dentro de la columna."
   ]
  },
  {
   "cell_type": "code",
   "execution_count": 10,
   "metadata": {},
   "outputs": [
    {
     "name": "stdout",
     "output_type": "stream",
     "text": [
      "Dealer Rate = 0.6%\n"
     ]
    }
   ],
   "source": [
    "counts = df.Seller_Type.value_counts()\n",
    "perc_dealer = (counts.iloc[1] / (counts.iloc[0] + counts.iloc[1])) * 100\n",
    "print(f'Dealer Rate = {perc_dealer:.1f}%')"
   ]
  },
  {
   "cell_type": "markdown",
   "metadata": {},
   "source": [
    "La función calcula el porcentaje vendido por dealer sobre el total de clientes (la suma de `Dealer` y `Individual`), multiplicado por 100. Utiliza `iloc` para seleccionar valores específicos en el DataFrame `counts`(almacena el conteo por categoría de la columna `Selling_Type` utilizando la función `value_counts`), donde `Individual` está en la fila 1 y `Dealer` en la fila 0. Finalmente, imprime el valor calculado en `perc_dealer` junto con el texto \"Dealer Rate\", formateado como porcentaje."
   ]
  },
  {
   "cell_type": "code",
   "execution_count": 11,
   "metadata": {},
   "outputs": [
    {
     "name": "stdout",
     "output_type": "stream",
     "text": [
      "Number of Duplicate Entries: 6\n"
     ]
    }
   ],
   "source": [
    "# número de duplicados\n",
    "duplicates = len(df[df.duplicated()])\n",
    "print(f'Number of Duplicate Entries: {duplicates}')"
   ]
  },
  {
   "cell_type": "markdown",
   "metadata": {},
   "source": [
    "Calcula el numero de duplicados que se encuentran en toda la data frame.dde igual manera imprimimos el resultado con la función `print`"
   ]
  },
  {
   "cell_type": "code",
   "execution_count": 12,
   "metadata": {},
   "outputs": [
    {
     "name": "stdout",
     "output_type": "stream",
     "text": [
      "Number of Missing Values: 435\n"
     ]
    }
   ],
   "source": [
    "# número de valores perdidos\n",
    "missing_values = df.isnull().sum().sum()\n",
    "print(f'Number of Missing Values: {missing_values}')"
   ]
  },
  {
   "cell_type": "markdown",
   "metadata": {},
   "source": [
    "La función `is_null()` identifica los valores nulos en cada celda del DataFrame, asignando un valor booleano: `True` para nulos (representado internamente como 1) y `False` para no nulos (representado como 0). Primero, se suman los valores nulos por columna, y luego se suman estas sumas para obtener el total de valores faltantes en todo el DataFrame. Finalmente, este total se imprime junto con un texto descriptivo usando `print`."
   ]
  },
  {
   "cell_type": "code",
   "execution_count": 13,
   "metadata": {},
   "outputs": [
    {
     "name": "stdout",
     "output_type": "stream",
     "text": [
      "Number of Features: 8\n",
      "Number of Customers: 1061\n",
      "Data Types and Frequency in Dataset:\n",
      "object     4\n",
      "int64      3\n",
      "float64    1\n",
      "Name: count, dtype: int64\n"
     ]
    }
   ],
   "source": [
    "# Tipos de datos en el dataset\n",
    "types = df.dtypes.value_counts()\n",
    "\n",
    "print('Number of Features: %d'%(df.shape[1]))\n",
    "print('Number of Customers: %d'%(df.shape[0]))\n",
    "print('Data Types and Frequency in Dataset:')\n",
    "print(types)"
   ]
  },
  {
   "cell_type": "markdown",
   "metadata": {},
   "source": [
    "Esta función cuenta y muestra la cantidad de columnas, filas y la frecuencia de cada tipo de dato en el DataFrame `df`."
   ]
  },
  {
   "cell_type": "markdown",
   "metadata": {},
   "source": [
    "### Pre - Porcesing"
   ]
  },
  {
   "cell_type": "code",
   "execution_count": 14,
   "metadata": {},
   "outputs": [],
   "source": [
    "# Conversión de características\n",
    "df['Seller_Type'] = df['Seller_Type'].map({'Individual': 1, 'Dealer': 0})"
   ]
  },
  {
   "cell_type": "markdown",
   "metadata": {},
   "source": [
    "Esta función convierte los valores categóricos de la columnas `Seller_Type` en valores numéricos (1 y 0) en el DataFrame `df`."
   ]
  },
  {
   "cell_type": "code",
   "execution_count": 15,
   "metadata": {},
   "outputs": [
    {
     "name": "stdout",
     "output_type": "stream",
     "text": [
      "New Number of Features: 308\n"
     ]
    }
   ],
   "source": [
    "catcols = df.select_dtypes(exclude = ['int64','float64']).columns\n",
    "intcols = df.select_dtypes(include = ['int64']).columns\n",
    "floatcols = df.select_dtypes(include = ['float64']).columns\n",
    "\n",
    "# codificación \n",
    "df = pd.get_dummies(df, columns = catcols)\n",
    "   \n",
    "print('New Number of Features: %d'%(df.shape[1]))  "
   ]
  },
  {
   "cell_type": "markdown",
   "metadata": {},
   "source": [
    "Esta función identifica las columnas categóricas, enteras y de punto flotante en `df`, aplica codificación one-hot a las categóricas, y luego imprime el nuevo número de columnas del DataFrame."
   ]
  },
  {
   "cell_type": "code",
   "execution_count": 16,
   "metadata": {},
   "outputs": [
    {
     "data": {
      "text/html": [
       "<div>\n",
       "<style scoped>\n",
       "    .dataframe tbody tr th:only-of-type {\n",
       "        vertical-align: middle;\n",
       "    }\n",
       "\n",
       "    .dataframe tbody tr th {\n",
       "        vertical-align: top;\n",
       "    }\n",
       "\n",
       "    .dataframe thead th {\n",
       "        text-align: right;\n",
       "    }\n",
       "</style>\n",
       "<table border=\"1\" class=\"dataframe\">\n",
       "  <thead>\n",
       "    <tr style=\"text-align: right;\">\n",
       "      <th></th>\n",
       "      <th>Selling_Price</th>\n",
       "      <th>Year</th>\n",
       "      <th>Seller_Type</th>\n",
       "      <th>KM_Driven</th>\n",
       "      <th>Ex_Showroom_Price</th>\n",
       "      <th>Brand_Activa</th>\n",
       "      <th>Brand_Aprilia</th>\n",
       "      <th>Brand_BMW</th>\n",
       "      <th>Brand_Bajaj</th>\n",
       "      <th>Brand_Benelli</th>\n",
       "      <th>...</th>\n",
       "      <th>Model_Yamaha YBR 125</th>\n",
       "      <th>Model_Yamaha YZF R15 S</th>\n",
       "      <th>Model_Yamaha YZF R15 V3</th>\n",
       "      <th>Model_Yamaha YZF R15 [2011-2018]</th>\n",
       "      <th>Model_Yamaha YZF R3</th>\n",
       "      <th>Model_Yo Style</th>\n",
       "      <th>Owner_1st owner</th>\n",
       "      <th>Owner_2nd owner</th>\n",
       "      <th>Owner_3rd owner</th>\n",
       "      <th>Owner_4th owner</th>\n",
       "    </tr>\n",
       "  </thead>\n",
       "  <tbody>\n",
       "    <tr>\n",
       "      <th>0</th>\n",
       "      <td>30000</td>\n",
       "      <td>2017</td>\n",
       "      <td>1</td>\n",
       "      <td>8000</td>\n",
       "      <td>30490.0</td>\n",
       "      <td>False</td>\n",
       "      <td>False</td>\n",
       "      <td>False</td>\n",
       "      <td>False</td>\n",
       "      <td>False</td>\n",
       "      <td>...</td>\n",
       "      <td>False</td>\n",
       "      <td>False</td>\n",
       "      <td>False</td>\n",
       "      <td>False</td>\n",
       "      <td>False</td>\n",
       "      <td>False</td>\n",
       "      <td>True</td>\n",
       "      <td>False</td>\n",
       "      <td>False</td>\n",
       "      <td>False</td>\n",
       "    </tr>\n",
       "    <tr>\n",
       "      <th>1</th>\n",
       "      <td>18000</td>\n",
       "      <td>2017</td>\n",
       "      <td>1</td>\n",
       "      <td>35000</td>\n",
       "      <td>32000.0</td>\n",
       "      <td>False</td>\n",
       "      <td>False</td>\n",
       "      <td>False</td>\n",
       "      <td>True</td>\n",
       "      <td>False</td>\n",
       "      <td>...</td>\n",
       "      <td>False</td>\n",
       "      <td>False</td>\n",
       "      <td>False</td>\n",
       "      <td>False</td>\n",
       "      <td>False</td>\n",
       "      <td>False</td>\n",
       "      <td>True</td>\n",
       "      <td>False</td>\n",
       "      <td>False</td>\n",
       "      <td>False</td>\n",
       "    </tr>\n",
       "    <tr>\n",
       "      <th>2</th>\n",
       "      <td>20000</td>\n",
       "      <td>2011</td>\n",
       "      <td>1</td>\n",
       "      <td>10000</td>\n",
       "      <td>37675.0</td>\n",
       "      <td>False</td>\n",
       "      <td>False</td>\n",
       "      <td>False</td>\n",
       "      <td>False</td>\n",
       "      <td>False</td>\n",
       "      <td>...</td>\n",
       "      <td>False</td>\n",
       "      <td>False</td>\n",
       "      <td>False</td>\n",
       "      <td>False</td>\n",
       "      <td>False</td>\n",
       "      <td>True</td>\n",
       "      <td>True</td>\n",
       "      <td>False</td>\n",
       "      <td>False</td>\n",
       "      <td>False</td>\n",
       "    </tr>\n",
       "    <tr>\n",
       "      <th>3</th>\n",
       "      <td>25000</td>\n",
       "      <td>2010</td>\n",
       "      <td>1</td>\n",
       "      <td>43000</td>\n",
       "      <td>42859.0</td>\n",
       "      <td>False</td>\n",
       "      <td>False</td>\n",
       "      <td>False</td>\n",
       "      <td>True</td>\n",
       "      <td>False</td>\n",
       "      <td>...</td>\n",
       "      <td>False</td>\n",
       "      <td>False</td>\n",
       "      <td>False</td>\n",
       "      <td>False</td>\n",
       "      <td>False</td>\n",
       "      <td>False</td>\n",
       "      <td>True</td>\n",
       "      <td>False</td>\n",
       "      <td>False</td>\n",
       "      <td>False</td>\n",
       "    </tr>\n",
       "    <tr>\n",
       "      <th>4</th>\n",
       "      <td>24999</td>\n",
       "      <td>2012</td>\n",
       "      <td>1</td>\n",
       "      <td>35000</td>\n",
       "      <td>42859.0</td>\n",
       "      <td>False</td>\n",
       "      <td>False</td>\n",
       "      <td>False</td>\n",
       "      <td>True</td>\n",
       "      <td>False</td>\n",
       "      <td>...</td>\n",
       "      <td>False</td>\n",
       "      <td>False</td>\n",
       "      <td>False</td>\n",
       "      <td>False</td>\n",
       "      <td>False</td>\n",
       "      <td>False</td>\n",
       "      <td>False</td>\n",
       "      <td>True</td>\n",
       "      <td>False</td>\n",
       "      <td>False</td>\n",
       "    </tr>\n",
       "    <tr>\n",
       "      <th>...</th>\n",
       "      <td>...</td>\n",
       "      <td>...</td>\n",
       "      <td>...</td>\n",
       "      <td>...</td>\n",
       "      <td>...</td>\n",
       "      <td>...</td>\n",
       "      <td>...</td>\n",
       "      <td>...</td>\n",
       "      <td>...</td>\n",
       "      <td>...</td>\n",
       "      <td>...</td>\n",
       "      <td>...</td>\n",
       "      <td>...</td>\n",
       "      <td>...</td>\n",
       "      <td>...</td>\n",
       "      <td>...</td>\n",
       "      <td>...</td>\n",
       "      <td>...</td>\n",
       "      <td>...</td>\n",
       "      <td>...</td>\n",
       "      <td>...</td>\n",
       "    </tr>\n",
       "    <tr>\n",
       "      <th>1056</th>\n",
       "      <td>90000</td>\n",
       "      <td>2012</td>\n",
       "      <td>1</td>\n",
       "      <td>40000</td>\n",
       "      <td>NaN</td>\n",
       "      <td>False</td>\n",
       "      <td>False</td>\n",
       "      <td>False</td>\n",
       "      <td>False</td>\n",
       "      <td>False</td>\n",
       "      <td>...</td>\n",
       "      <td>False</td>\n",
       "      <td>False</td>\n",
       "      <td>False</td>\n",
       "      <td>False</td>\n",
       "      <td>False</td>\n",
       "      <td>False</td>\n",
       "      <td>True</td>\n",
       "      <td>False</td>\n",
       "      <td>False</td>\n",
       "      <td>False</td>\n",
       "    </tr>\n",
       "    <tr>\n",
       "      <th>1057</th>\n",
       "      <td>20000</td>\n",
       "      <td>2010</td>\n",
       "      <td>1</td>\n",
       "      <td>17000</td>\n",
       "      <td>NaN</td>\n",
       "      <td>False</td>\n",
       "      <td>False</td>\n",
       "      <td>False</td>\n",
       "      <td>False</td>\n",
       "      <td>False</td>\n",
       "      <td>...</td>\n",
       "      <td>False</td>\n",
       "      <td>False</td>\n",
       "      <td>False</td>\n",
       "      <td>False</td>\n",
       "      <td>False</td>\n",
       "      <td>False</td>\n",
       "      <td>True</td>\n",
       "      <td>False</td>\n",
       "      <td>False</td>\n",
       "      <td>False</td>\n",
       "    </tr>\n",
       "    <tr>\n",
       "      <th>1058</th>\n",
       "      <td>60000</td>\n",
       "      <td>2014</td>\n",
       "      <td>1</td>\n",
       "      <td>16000</td>\n",
       "      <td>NaN</td>\n",
       "      <td>False</td>\n",
       "      <td>False</td>\n",
       "      <td>False</td>\n",
       "      <td>True</td>\n",
       "      <td>False</td>\n",
       "      <td>...</td>\n",
       "      <td>False</td>\n",
       "      <td>False</td>\n",
       "      <td>False</td>\n",
       "      <td>False</td>\n",
       "      <td>False</td>\n",
       "      <td>False</td>\n",
       "      <td>True</td>\n",
       "      <td>False</td>\n",
       "      <td>False</td>\n",
       "      <td>False</td>\n",
       "    </tr>\n",
       "    <tr>\n",
       "      <th>1059</th>\n",
       "      <td>40000</td>\n",
       "      <td>2009</td>\n",
       "      <td>1</td>\n",
       "      <td>50000</td>\n",
       "      <td>NaN</td>\n",
       "      <td>False</td>\n",
       "      <td>False</td>\n",
       "      <td>False</td>\n",
       "      <td>False</td>\n",
       "      <td>False</td>\n",
       "      <td>...</td>\n",
       "      <td>False</td>\n",
       "      <td>False</td>\n",
       "      <td>False</td>\n",
       "      <td>False</td>\n",
       "      <td>False</td>\n",
       "      <td>False</td>\n",
       "      <td>True</td>\n",
       "      <td>False</td>\n",
       "      <td>False</td>\n",
       "      <td>False</td>\n",
       "    </tr>\n",
       "    <tr>\n",
       "      <th>1060</th>\n",
       "      <td>35000</td>\n",
       "      <td>2012</td>\n",
       "      <td>1</td>\n",
       "      <td>60000</td>\n",
       "      <td>NaN</td>\n",
       "      <td>False</td>\n",
       "      <td>False</td>\n",
       "      <td>False</td>\n",
       "      <td>False</td>\n",
       "      <td>False</td>\n",
       "      <td>...</td>\n",
       "      <td>False</td>\n",
       "      <td>False</td>\n",
       "      <td>False</td>\n",
       "      <td>False</td>\n",
       "      <td>False</td>\n",
       "      <td>False</td>\n",
       "      <td>True</td>\n",
       "      <td>False</td>\n",
       "      <td>False</td>\n",
       "      <td>False</td>\n",
       "    </tr>\n",
       "  </tbody>\n",
       "</table>\n",
       "<p>1061 rows × 308 columns</p>\n",
       "</div>"
      ],
      "text/plain": [
       "      Selling_Price  Year  Seller_Type  KM_Driven  Ex_Showroom_Price  \\\n",
       "0             30000  2017            1       8000            30490.0   \n",
       "1             18000  2017            1      35000            32000.0   \n",
       "2             20000  2011            1      10000            37675.0   \n",
       "3             25000  2010            1      43000            42859.0   \n",
       "4             24999  2012            1      35000            42859.0   \n",
       "...             ...   ...          ...        ...                ...   \n",
       "1056          90000  2012            1      40000                NaN   \n",
       "1057          20000  2010            1      17000                NaN   \n",
       "1058          60000  2014            1      16000                NaN   \n",
       "1059          40000  2009            1      50000                NaN   \n",
       "1060          35000  2012            1      60000                NaN   \n",
       "\n",
       "      Brand_Activa  Brand_Aprilia  Brand_BMW  Brand_Bajaj  Brand_Benelli  ...  \\\n",
       "0            False          False      False        False          False  ...   \n",
       "1            False          False      False         True          False  ...   \n",
       "2            False          False      False        False          False  ...   \n",
       "3            False          False      False         True          False  ...   \n",
       "4            False          False      False         True          False  ...   \n",
       "...            ...            ...        ...          ...            ...  ...   \n",
       "1056         False          False      False        False          False  ...   \n",
       "1057         False          False      False        False          False  ...   \n",
       "1058         False          False      False         True          False  ...   \n",
       "1059         False          False      False        False          False  ...   \n",
       "1060         False          False      False        False          False  ...   \n",
       "\n",
       "      Model_Yamaha YBR 125  Model_Yamaha YZF R15 S  Model_Yamaha YZF R15 V3  \\\n",
       "0                    False                   False                    False   \n",
       "1                    False                   False                    False   \n",
       "2                    False                   False                    False   \n",
       "3                    False                   False                    False   \n",
       "4                    False                   False                    False   \n",
       "...                    ...                     ...                      ...   \n",
       "1056                 False                   False                    False   \n",
       "1057                 False                   False                    False   \n",
       "1058                 False                   False                    False   \n",
       "1059                 False                   False                    False   \n",
       "1060                 False                   False                    False   \n",
       "\n",
       "      Model_Yamaha YZF R15 [2011-2018]  Model_Yamaha YZF R3  Model_Yo Style  \\\n",
       "0                                False                False           False   \n",
       "1                                False                False           False   \n",
       "2                                False                False            True   \n",
       "3                                False                False           False   \n",
       "4                                False                False           False   \n",
       "...                                ...                  ...             ...   \n",
       "1056                             False                False           False   \n",
       "1057                             False                False           False   \n",
       "1058                             False                False           False   \n",
       "1059                             False                False           False   \n",
       "1060                             False                False           False   \n",
       "\n",
       "      Owner_1st owner  Owner_2nd owner  Owner_3rd owner  Owner_4th owner  \n",
       "0                True            False            False            False  \n",
       "1                True            False            False            False  \n",
       "2                True            False            False            False  \n",
       "3                True            False            False            False  \n",
       "4               False             True            False            False  \n",
       "...               ...              ...              ...              ...  \n",
       "1056             True            False            False            False  \n",
       "1057             True            False            False            False  \n",
       "1058             True            False            False            False  \n",
       "1059             True            False            False            False  \n",
       "1060             True            False            False            False  \n",
       "\n",
       "[1061 rows x 308 columns]"
      ]
     },
     "execution_count": 16,
     "metadata": {},
     "output_type": "execute_result"
    }
   ],
   "source": [
    "df"
   ]
  },
  {
   "cell_type": "code",
   "execution_count": 19,
   "metadata": {},
   "outputs": [
    {
     "data": {
      "image/png": "[encoded data removed]",
      "text/plain": [
       "<Figure size 1000x600 with 1 Axes>"
      ]
     },
     "metadata": {},
     "output_type": "display_data"
    }
   ],
   "source": [
    "import matplotlib.pyplot as plt\n",
    "\n",
    "# Histograma del 'Credit_Limit'\n",
    "plt.figure(figsize=(10, 6))\n",
    "plt.hist(df['Selling_Price'], bins=10, alpha=0.7, color='blue')  # Ajusta 'bins' según lo necesario\n",
    "plt.xlabel('Precios de Venta de Bicicletas')\n",
    "plt.ylabel('Frecuencia')\n",
    "plt.title('Histograma del los Precios de Venta de Bicicletas')\n",
    "plt.show()"
   ]
  },
  {
   "cell_type": "markdown",
   "metadata": {},
   "source": [
    "Realice un histograma de precios con el fin de observar en que rango se precios se concentran mas las bicicletas que se encuentran en la base, y que despues serviria como de insumo para entender si otras variables categoricas tiene un impacto sobre esta"
   ]
  }
 ],
 "metadata": {
  "kernelspec": {
   "display_name": "Python 3",
   "language": "python",
   "name": "python3"
  },
  "language_info": {
   "codemirror_mode": {
    "name": "ipython",
    "version": 3
   },
   "file_extension": ".py",
   "mimetype": "text/x-python",
   "name": "python",
   "nbconvert_exporter": "python",
   "pygments_lexer": "ipython3",
   "version": "3.11.9"
  }
 },
 "nbformat": 4,
 "nbformat_minor": 2
}
